{
 "cells": [
  {
   "cell_type": "markdown",
   "metadata": {},
   "source": [
    "# Data Insights \n",
    "Our aim is to uncover insights into customer satisfaction, delivery efficiency, and purchasing patterns through statistical analysis, machine learning, and data visualization.\n",
    "\n",
    "## Analyzed Questions\n",
    "- Sales Trends Over Time: Identifying periods of high demand to inform inventory and marketing strategies.\n",
    "- Popular Product Categories: Highlighting top-selling categories to prioritize stock and marketing efforts.\n",
    "- Geographic Distribution of Sales: Tailoring logistics strategies to improve delivery times in key markets.\n",
    "- Influence of Payment Types on Purchases: Enhancing the checkout process to increase conversion rates.\n",
    "- Customer Satisfaction Distribution: Identifying improvement areas in product quality, service, and delivery.\n",
    "- Factors Affecting Delivery Times: Analyzing and optimizing delivery performance to reduce late deliveries.\n",
    "- Time to Delivery vs. Customer Satisfaction: Examining the impact of delivery times on satisfaction levels.\n",
    "- Key Predictors of Customer Satisfaction: Using machine learning to focus efforts on aspects crucial to customers.\n",
    "- Actual vs. Estimated Delivery Times: Assessing delivery estimate accuracy and its satisfaction impact.\n",
    "- Strategies for Business Improvement: Formulating recommendations based on data insights to enhance customer experience and business performance."
   ]
  },
  {
   "cell_type": "markdown",
   "metadata": {},
   "source": [
    "### Factors that influence customer behavior\n",
    "1. Demographic; \n",
    "2. Psychographic;\n",
    "3. Social; \n",
    "4. Cultural; \n",
    "5. Economical; \n",
    "\n",
    "The following code addresses all of these, given a dataset and the following hypothesis: "
   ]
  },
  {
   "cell_type": "markdown",
   "metadata": {},
   "source": []
  }
 ],
 "metadata": {
  "language_info": {
   "name": "python"
  }
 },
 "nbformat": 4,
 "nbformat_minor": 2
}
