{
 "cells": [
  {
   "cell_type": "code",
   "execution_count": null,
   "metadata": {},
   "outputs": [],
   "source": [
    "from sklearn.model_selection import GridSearchCV"
   ]
  },
  {
   "cell_type": "markdown",
   "metadata": {},
   "source": [
    "#### Machine Learning"
   ]
  },
  {
   "cell_type": "code",
   "execution_count": null,
   "metadata": {},
   "outputs": [],
   "source": [
    "\n",
    "# Initialize the XGBoost Classifier\n",
    "xgb_model = xgb.XGBClassifier(random_state=42)\n",
    "\n",
    "# Define the parameter grid to search\n",
    "param_grid = {\n",
    "    'n_estimators': [50, 100, 150],  # Fewer trees to keep the model simpler\n",
    "    'max_depth': [3, 4, 5],          # Shallow trees to prevent overfitting\n",
    "    'learning_rate': [0.1, 0.01, 0.05],\n",
    "    'subsample': [0.8, 1.0],\n",
    "    'colsample_bytree': [0.8, 1.0]\n",
    "}\n",
    "\n",
    "# Initialize GridSearchCV\n",
    "grid_search = GridSearchCV(\n",
    "    estimator=xgb_model,\n",
    "    param_grid=param_grid,\n",
    "    scoring='accuracy',  # or another scoring metric\n",
    "    cv=3,\n",
    "    verbose=1,\n",
    "    n_jobs=-1\n",
    ")\n",
    "\n",
    "# Fit GridSearchCV\n",
    "grid_search.fit(X_train_preprocessed, y_train)\n",
    "\n",
    "# Retrieve the best model\n",
    "best_model = grid_search.best_estimator_\n",
    "\n",
    "# Predictions\n",
    "train_preds = best_model.predict(X_train_preprocessed)\n",
    "test_preds = best_model.predict(X_test_preprocessed)\n"
   ]
  },
  {
   "cell_type": "code",
   "execution_count": null,
   "metadata": {},
   "outputs": [],
   "source": [
    "from sklearn.linear_model import LogisticRegression\n",
    "from sklearn.tree import DecisionTreeClassifier\n",
    "from sklearn.ensemble import RandomForestClassifier\n",
    "from sklearn.metrics import classification_report, confusion_matrix\n",
    "import matplotlib.pyplot as plt\n",
    "import seaborn as sns\n",
    "\n",
    "# Initializing models\n",
    "log_reg = LogisticRegression(random_state=42)\n",
    "decision_tree = DecisionTreeClassifier(random_state=42)\n",
    "random_forest = RandomForestClassifier(random_state=42)\n",
    "\n",
    "# A function to fit models, make predictions, and evaluate them\n",
    "def evaluate_model(model, X_train, y_train, X_test, y_test):\n",
    "    model.fit(X_train, y_train)\n",
    "    y_pred = model.predict(X_test)\n",
    "    conf_matrix = confusion_matrix(y_test, y_pred)\n",
    "    class_report = classification_report(y_test, y_pred)\n",
    "    \n",
    "    # Plotting confusion matrix\n",
    "    plt.figure(figsize=(6, 5))\n",
    "    sns.heatmap(conf_matrix, annot=True, fmt='d', cmap='Blues', cbar=False)\n",
    "    plt.xlabel('Predicted')\n",
    "    plt.ylabel('Actual')\n",
    "    plt.title(f'{model.__class__.__name__} Confusion Matrix')\n",
    "    plt.show()\n",
    "    \n",
    "    print(f\"{model.__class__.__name__} Classification Report:\")\n",
    "    print(class_report)\n",
    "    return model\n",
    "\n",
    "# Evaluating Logistic Regression\n",
    "evaluate_model(log_reg, X_train_preprocessed, y_train, X_test_preprocessed, y_test)\n",
    "\n",
    "# Evaluating Decision Tree\n",
    "evaluate_model(decision_tree, X_train_preprocessed, y_train, X_test_preprocessed, y_test)\n",
    "\n",
    "# Evaluating Random Forest\n",
    "evaluate_model(random_forest, X_train_preprocessed, y_train, X_test_preprocessed, y_test)\n"
   ]
  },
  {
   "cell_type": "code",
   "execution_count": null,
   "metadata": {},
   "outputs": [],
   "source": [
    "# Function to plot confusion matrix\n",
    "def plot_confusion_matrix(true_values, predictions, set_name):\n",
    "    matrix = confusion_matrix(true_values, predictions)\n",
    "    plt.figure(figsize=(6,5))\n",
    "    sns.heatmap(matrix, annot=True, fmt='d', cmap='Blues', cbar=False)\n",
    "    plt.xlabel('Predicted')\n",
    "    plt.ylabel('Actual')\n",
    "    plt.title(f'{set_name} Confusion Matrix')\n",
    "    plt.show()\n",
    "\n",
    "# Function to print classification report\n",
    "def print_classification_report(true_values, predictions, set_name):\n",
    "    report = classification_report(true_values, predictions)\n",
    "    print(f\"{set_name} Classification Report:\")\n",
    "    print(report)\n",
    "\n",
    "# Visualize and print reports for both sets\n",
    "plot_confusion_matrix(y_train, train_preds, \"Training\")\n",
    "print_classification_report(y_train, train_preds, \"Training\")\n",
    "\n",
    "plot_confusion_matrix(y_test, test_preds, \"Testing\")\n",
    "print_classification_report(y_test, test_preds, \"Testing\")\n",
    "\n",
    "# Print best parameters\n",
    "print(\"Best Parameters:\", grid_search.best_params_)\n",
    "print(\"Best Score:\", grid_search.best_score_)\n"
   ]
  },
  {
   "cell_type": "code",
   "execution_count": null,
   "metadata": {},
   "outputs": [],
   "source": [
    "# Create the final pipeline using the best model\n",
    "final_pipeline = Pipeline(steps=[('preprocessing', preprocessor),\n",
    "    ('classifier', xgb_model)\n",
    "])\n",
    "\n",
    "final_pipeline"
   ]
  },
  {
   "cell_type": "code",
   "execution_count": null,
   "metadata": {},
   "outputs": [],
   "source": [
    "# Fit the pipeline to your data\n",
    "final_pipeline.fit(X_train, y_train)"
   ]
  },
  {
   "cell_type": "code",
   "execution_count": null,
   "metadata": {},
   "outputs": [],
   "source": [
    "X_train.columns"
   ]
  },
  {
   "cell_type": "code",
   "execution_count": null,
   "metadata": {},
   "outputs": [],
   "source": [
    "X_train.describe()"
   ]
  },
  {
   "cell_type": "code",
   "execution_count": null,
   "metadata": {},
   "outputs": [],
   "source": [
    "# 3) Save pipeline as pkl file\n",
    "import joblib\n",
    "\n",
    "joblib.dump(final_pipeline, 'final_ECommerce_model.pkl')\n"
   ]
  },
  {
   "cell_type": "code",
   "execution_count": null,
   "metadata": {},
   "outputs": [],
   "source": [
    "model.predict(pd.DataFrame([{\n",
    "    'estimated_vs_actual_shipping': 130,\n",
    "    'time_to_delivery': 133, \n",
    "    'payment_value': 9591,\n",
    "    'late_delivery': 1 \n",
    "}], dtype=float))"
   ]
  },
  {
   "cell_type": "code",
   "execution_count": null,
   "metadata": {},
   "outputs": [],
   "source": [
    "model.predict(pd.DataFrame([{\n",
    "    'estimated_vs_actual_shipping': 5,\n",
    "    'time_to_delivery': 7,\n",
    "    'payment_value': 300,\n",
    "    'late_delivery': 0 \n",
    "}], dtype=float))"
   ]
  },
  {
   "cell_type": "markdown",
   "metadata": {},
   "source": []
  }
 ],
 "metadata": {
  "kernelspec": {
   "display_name": "venv",
   "language": "python",
   "name": "python3"
  },
  "language_info": {
   "codemirror_mode": {
    "name": "ipython",
    "version": 3
   },
   "file_extension": ".py",
   "mimetype": "text/x-python",
   "name": "python",
   "nbconvert_exporter": "python",
   "pygments_lexer": "ipython3",
   "version": "3.11.8"
  }
 },
 "nbformat": 4,
 "nbformat_minor": 2
}
